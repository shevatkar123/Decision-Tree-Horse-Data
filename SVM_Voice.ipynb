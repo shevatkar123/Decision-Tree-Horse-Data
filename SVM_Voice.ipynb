{
  "nbformat": 4,
  "nbformat_minor": 5,
  "metadata": {
    "kernelspec": {
      "display_name": "Python 3",
      "language": "python",
      "name": "python3"
    },
    "language_info": {
      "codemirror_mode": {
        "name": "ipython",
        "version": 3
      },
      "file_extension": ".py",
      "mimetype": "text/x-python",
      "name": "python",
      "nbconvert_exporter": "python",
      "pygments_lexer": "ipython3",
      "version": "3.8.8"
    },
    "colab": {
      "name": "SVM_Voice.ipynb",
      "provenance": []
    }
  },
  "cells": [
    {
      "cell_type": "markdown",
      "metadata": {
        "id": "17d04884"
      },
      "source": [
        "# SVM Classifier for Voice classification"
      ],
      "id": "17d04884"
    },
    {
      "cell_type": "markdown",
      "metadata": {
        "id": "48f5e92b"
      },
      "source": [
        "# Data Set: Voice Data Set\n",
        "\n",
        "This database was created to identify a voice as male or female, based upon acoustic properties of the voice and speech. The dataset consists of 3800 recorded voice samples. The voice samples are pre-processed by acoustic analysis in R using the seewave and tuneR packages.\n",
        "\n",
        "The following acoustic properties of each voice are measured and included within the CSV:\n",
        "\n",
        "<ul>\n",
        "<li><strong>meanfreq</strong>: mean frequency (in kHz)</li>\n",
        "<li><strong>sd</strong>: standard deviation of frequency</li>\n",
        "<li><strong>median</strong>: median frequency (in kHz)</li>\n",
        "<li><strong>Q25</strong>: first quantile (in kHz)</li>\n",
        "<li><strong>Q75</strong>: third quantile (in kHz)</li>\n",
        "<li><strong>IQR</strong>: interquantile range (in kHz)</li>\n",
        "<li><strong>skew</strong>: skewness (see note in specprop description)</li>\n",
        "<li><strong>kurt</strong>: kurtosis (see note in specprop description)</li>\n",
        "<li><strong>sp.ent</strong>: spectral entropy</li>\n",
        "<li><strong>sfm</strong>: spectral flatness</li>\n",
        "<li><strong>mode</strong>: mode frequency</li>\n",
        "<li><strong>centroid</strong>: frequency centroid (see specprop)</li>\n",
        "<li><strong>peakf</strong>: peak frequency (frequency with highest energy)</li>\n",
        "<li><strong>meanfun</strong>: average of fundamental frequency measured across acoustic signal</li>\n",
        "<li><strong>minfun</strong>: minimum fundamental frequency measured across acoustic signal</li>\n",
        "<li><strong>maxfun</strong>: maximum fundamental frequency measured across acoustic signal</li>\n",
        "<li><strong>meandom</strong>: average of dominant frequency measured across acoustic signal</li>\n",
        "<li><strong>mindom</strong>: minimum of dominant frequency measured across acoustic signal</li>\n",
        "<li><strong>maxdom</strong>: maximum of dominant frequency measured across acoustic signal</li>\n",
        "<li><strong>dfrange</strong>: range of dominant frequency measured across acoustic signal</li>\n",
        "<li><strong>modindx</strong>: modulation index. Calculated as the accumulated absolute difference between adjacent measurements of fundamental frequencies divided by the frequency range</li>\n",
        "<li><strong>label</strong>: male or female</li>\n",
        "</ul>"
      ],
      "id": "48f5e92b"
    },
    {
      "cell_type": "code",
      "metadata": {
        "id": "fccf8827"
      },
      "source": [
        "import pandas as pd"
      ],
      "id": "fccf8827",
      "execution_count": null,
      "outputs": []
    },
    {
      "cell_type": "code",
      "metadata": {
        "id": "c5be226b"
      },
      "source": [
        "voice_df = pd.read_csv(\"voice-classification.csv\")\n",
        "voice_df.shape"
      ],
      "id": "c5be226b",
      "execution_count": null,
      "outputs": []
    },
    {
      "cell_type": "code",
      "metadata": {
        "id": "efd7378c"
      },
      "source": [
        "voice_df.head(5)"
      ],
      "id": "efd7378c",
      "execution_count": null,
      "outputs": []
    },
    {
      "cell_type": "code",
      "metadata": {
        "id": "480d48d9"
      },
      "source": [
        "voice_df.describe().T"
      ],
      "id": "480d48d9",
      "execution_count": null,
      "outputs": []
    },
    {
      "cell_type": "code",
      "metadata": {
        "id": "dcc3ad46"
      },
      "source": [
        "voice_df[\"label\"].value_counts()"
      ],
      "id": "dcc3ad46",
      "execution_count": null,
      "outputs": []
    },
    {
      "cell_type": "code",
      "metadata": {
        "id": "cb80324e"
      },
      "source": [
        "voice_df.isnull().sum()"
      ],
      "id": "cb80324e",
      "execution_count": null,
      "outputs": []
    },
    {
      "cell_type": "code",
      "metadata": {
        "id": "b898d6e5"
      },
      "source": [
        "voice_df[\"label\"]"
      ],
      "id": "b898d6e5",
      "execution_count": null,
      "outputs": []
    },
    {
      "cell_type": "code",
      "metadata": {
        "id": "fc51ac55"
      },
      "source": [
        "X = voice_df.drop(\"label\" , axis = 1)\n",
        "y=voice_df[\"label\"]"
      ],
      "id": "fc51ac55",
      "execution_count": null,
      "outputs": []
    },
    {
      "cell_type": "code",
      "metadata": {
        "id": "a3075e99"
      },
      "source": [
        "X"
      ],
      "id": "a3075e99",
      "execution_count": null,
      "outputs": []
    },
    {
      "cell_type": "code",
      "metadata": {
        "id": "c8a0808f"
      },
      "source": [
        "# Label encode the target column\n",
        "\n",
        "from sklearn.preprocessing import LabelEncoder\n",
        "\n",
        "LE= LabelEncoder()\n",
        "\n",
        "y = LE.fit_transform(voice_df[\"label\"])"
      ],
      "id": "c8a0808f",
      "execution_count": null,
      "outputs": []
    },
    {
      "cell_type": "code",
      "metadata": {
        "id": "b1889a92"
      },
      "source": [
        "print(y)"
      ],
      "id": "b1889a92",
      "execution_count": null,
      "outputs": []
    },
    {
      "cell_type": "markdown",
      "metadata": {
        "id": "24d56753"
      },
      "source": [
        "# Scale the dataset "
      ],
      "id": "24d56753"
    },
    {
      "cell_type": "code",
      "metadata": {
        "id": "5eceab4e"
      },
      "source": [
        "from sklearn.preprocessing import StandardScaler\n",
        "sc = StandardScaler()\n",
        "X1 = sc.fit_transform(X)\n"
      ],
      "id": "5eceab4e",
      "execution_count": null,
      "outputs": []
    },
    {
      "cell_type": "code",
      "metadata": {
        "id": "6fd7c1b9"
      },
      "source": [
        "from sklearn.model_selection import train_test_split\n",
        "\n",
        "X_train, X_test, y_train , y_test = train_test_split(X1, y, test_size = 0.25 , random_state = 21)"
      ],
      "id": "6fd7c1b9",
      "execution_count": null,
      "outputs": []
    },
    {
      "cell_type": "code",
      "metadata": {
        "id": "32d42dd6"
      },
      "source": [
        "print(\"Shape of the training features is \", X_train.shape)\n",
        "print(\"Shape of the training target is \", y_train.shape)\n",
        "print(\"Shape of the testing features is \", X_test.shape)\n",
        "print(\"Shape of the testing target is \", y_test.shape)"
      ],
      "id": "32d42dd6",
      "execution_count": null,
      "outputs": []
    },
    {
      "cell_type": "code",
      "metadata": {
        "id": "40e74279"
      },
      "source": [
        "# Building the support vector classifier model\n",
        "\n",
        "from sklearn.svm import SVC\n",
        "\n",
        "svc_model = SVC()\n",
        "\n",
        "svc_model.fit(X_train, y_train)\n",
        "\n",
        "y_test_pred = svc_model.predict(X_test)\n",
        "\n",
        "y_train_pred = svc_model.predict(X_train)\n"
      ],
      "id": "40e74279",
      "execution_count": null,
      "outputs": []
    },
    {
      "cell_type": "code",
      "metadata": {
        "id": "343244e6"
      },
      "source": [
        "from sklearn.metrics import accuracy_score\n",
        "print(\"The test data accuracy of the SVC model is \",accuracy_score(y_test , y_test_pred))"
      ],
      "id": "343244e6",
      "execution_count": null,
      "outputs": []
    },
    {
      "cell_type": "code",
      "metadata": {
        "id": "b19b245f"
      },
      "source": [
        "print(\"The train data accuracy of the SVC model is \",accuracy_score(y_train , y_train_pred))"
      ],
      "id": "b19b245f",
      "execution_count": null,
      "outputs": []
    },
    {
      "cell_type": "markdown",
      "metadata": {
        "id": "1299a21c"
      },
      "source": [
        "# End of SVM"
      ],
      "id": "1299a21c"
    },
    {
      "cell_type": "code",
      "metadata": {
        "id": "09e2736d"
      },
      "source": [
        ""
      ],
      "id": "09e2736d",
      "execution_count": null,
      "outputs": []
    }
  ]
}